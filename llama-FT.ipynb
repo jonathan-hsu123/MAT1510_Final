{
 "cells": [
  {
   "cell_type": "code",
   "execution_count": 12,
   "metadata": {
    "collapsed": true,
    "executionInfo": {
     "elapsed": 2709,
     "status": "ok",
     "timestamp": 1732596294979,
     "user": {
      "displayName": "Lin John",
      "userId": "00076252520359288091"
     },
     "user_tz": 300
    },
    "id": "l-OmQD2TH8O9"
   },
   "outputs": [],
   "source": [
    "!pip -q install transformers datasets peft accelerate adapter-transformers bitsandbytes"
   ]
  },
  {
   "cell_type": "code",
   "execution_count": 13,
   "metadata": {
    "executionInfo": {
     "elapsed": 1136,
     "status": "ok",
     "timestamp": 1732596296113,
     "user": {
      "displayName": "Lin John",
      "userId": "00076252520359288091"
     },
     "user_tz": 300
    },
    "id": "zSzs5--7FQ5I"
   },
   "outputs": [],
   "source": [
    "from datasets import load_dataset\n",
    "dataset = load_dataset(\"boolq\")"
   ]
  },
  {
   "cell_type": "code",
   "execution_count": 14,
   "metadata": {
    "executionInfo": {
     "elapsed": 2,
     "status": "ok",
     "timestamp": 1732596296114,
     "user": {
      "displayName": "Lin John",
      "userId": "00076252520359288091"
     },
     "user_tz": 300
    },
    "id": "6OU6RKDrFeEb"
   },
   "outputs": [],
   "source": [
    "def format_example(example):\n",
    "    question = example['question']\n",
    "    passage = example['passage']\n",
    "    answer = 'Yes' if example['answer'] else 'No'\n",
    "    prompt = f\"Question: {question}\\nPassage: {passage}\\nAnswer:\"\n",
    "    return {'input_text': prompt, 'target_text': answer}\n",
    "formatted_dataset = dataset.map(format_example, remove_columns=dataset['train'].column_names)"
   ]
  },
  {
   "cell_type": "code",
   "execution_count": 15,
   "metadata": {
    "executionInfo": {
     "elapsed": 2583,
     "status": "ok",
     "timestamp": 1732596299135,
     "user": {
      "displayName": "Lin John",
      "userId": "00076252520359288091"
     },
     "user_tz": 300
    },
    "id": "5N7y9nSaFr5h"
   },
   "outputs": [],
   "source": [
    "from transformers import GPT2Tokenizer, GPT2LMHeadModel\n",
    "\n",
    "# tokenizer = LlamaTokenizer.from_pretrained('meta-llama/Llama-2-7b-hf')\n",
    "# tokenizer.pad_token = tokenizer.eos_token\n",
    "# tokenizer.pad_token_id = tokenizer.eos_token_id\n",
    "tokenizer = GPT2Tokenizer.from_pretrained('gpt2')\n",
    "tokenizer.pad_token = tokenizer.eos_token\n",
    "\n",
    "def tokenize_function(examples):\n",
    "    inputs = [f\"{input_text} {target_text}\" for input_text, target_text in zip(examples['input_text'], examples['target_text'])]\n",
    "\n",
    "    # Tokenize the combined text and return PyTorch tensors\n",
    "    model_inputs = tokenizer(\n",
    "        inputs,\n",
    "        max_length=512,\n",
    "        padding='max_length',\n",
    "        truncation=True,\n",
    "        return_tensors='pt',  # Ensure tensors are returned\n",
    "    )\n",
    "\n",
    "    # Create labels by cloning the input IDs\n",
    "    labels = model_inputs['input_ids'].clone()\n",
    "\n",
    "    # Determine the length of the input_text for each example\n",
    "    input_lengths = []\n",
    "    for input_text in examples['input_text']:\n",
    "        input_ids = tokenizer(\n",
    "            input_text,\n",
    "            max_length=512,\n",
    "            truncation=True,\n",
    "            add_special_tokens=False,  # Do not add special tokens here\n",
    "        )['input_ids']\n",
    "        input_lengths.append(len(input_ids))\n",
    "\n",
    "    # Mask the labels for the input_text portion\n",
    "    for i, input_length in enumerate(input_lengths):\n",
    "        labels[i, :input_length] = -100  # Use -100 to ignore the input tokens\n",
    "\n",
    "    model_inputs['labels'] = labels\n",
    "\n",
    "    return model_inputs\n",
    "\n",
    "tokenized_dataset = formatted_dataset.map(\n",
    "    tokenize_function,\n",
    "    batched=True,\n",
    "    remove_columns=formatted_dataset['train'].column_names,\n",
    ")"
   ]
  },
  {
   "cell_type": "code",
   "execution_count": 16,
   "metadata": {
    "executionInfo": {
     "elapsed": 65,
     "status": "ok",
     "timestamp": 1732596304641,
     "user": {
      "displayName": "Lin John",
      "userId": "00076252520359288091"
     },
     "user_tz": 300
    },
    "id": "zP-ULfLKTbEs"
   },
   "outputs": [],
   "source": [
    "from transformers import DataCollatorForLanguageModeling\n",
    "\n",
    "data_collator = DataCollatorForLanguageModeling(\n",
    "    tokenizer=tokenizer,\n",
    "    mlm=False,  # We are not using masked language modeling\n",
    ")"
   ]
  },
  {
   "cell_type": "code",
   "execution_count": 17,
   "metadata": {
    "executionInfo": {
     "elapsed": 297,
     "status": "ok",
     "timestamp": 1732596308095,
     "user": {
      "displayName": "Lin John",
      "userId": "00076252520359288091"
     },
     "user_tz": 300
    },
    "id": "wJoSF7AHGIGN"
   },
   "outputs": [],
   "source": [
    "# model = LlamaForCausalLM.from_pretrained('meta-llama/Llama-2-7b-hf', load_in_8bit=True, device_map='auto')\n",
    "model = GPT2LMHeadModel.from_pretrained('gpt2')"
   ]
  },
  {
   "cell_type": "code",
   "execution_count": 18,
   "metadata": {
    "colab": {
     "base_uri": "https://localhost:8080/"
    },
    "executionInfo": {
     "elapsed": 62,
     "status": "ok",
     "timestamp": 1732596314867,
     "user": {
      "displayName": "Lin John",
      "userId": "00076252520359288091"
     },
     "user_tz": 300
    },
    "id": "yWqRJ1Z_ya2x",
    "outputId": "650fa046-f3c2-4ed0-84c0-8873fdfe45fe"
   },
   "outputs": [
    {
     "name": "stdout",
     "output_type": "stream",
     "text": [
      "Number of trainable parameters: 124,439,808\n"
     ]
    }
   ],
   "source": [
    "# Function to count parameters\n",
    "def count_parameters(model):\n",
    "    return sum(p.numel() for p in model.parameters() if p.requires_grad)\n",
    "\n",
    "# Print number of trainable parameters\n",
    "print(f\"Number of trainable parameters: {count_parameters(model):,}\")"
   ]
  },
  {
   "cell_type": "code",
   "execution_count": null,
   "metadata": {
    "id": "9HjKHsxpGWHX"
   },
   "outputs": [],
   "source": [
    "from transformers import TrainingArguments\n",
    "\n",
    "# Set the pad_token to the eos_token\n",
    "tokenizer.pad_token = tokenizer.eos_token\n",
    "\n",
    "# Update model's config\n",
    "model.config.pad_token_id = tokenizer.pad_token_id\n",
    "training_args = TrainingArguments(\n",
    "    output_dir='./results',\n",
    "    num_train_epochs=10,\n",
    "    per_device_train_batch_size=16,\n",
    "    per_device_eval_batch_size=16,\n",
    "    warmup_steps=100,\n",
    "    # evaluation_strategy='steps',\n",
    "    # eval_steps=1000,\n",
    "    save_steps=3000,\n",
    "    logging_dir='./logs',\n",
    "    logging_steps=1000,\n",
    "    learning_rate=1e-4,\n",
    "    report_to='none',\n",
    ")\n",
    "from transformers import Trainer\n",
    "\n",
    "trainer = Trainer(\n",
    "    model=model,\n",
    "    args=training_args,\n",
    "    train_dataset=tokenized_dataset['train'],\n",
    "    eval_dataset=tokenized_dataset['validation'],\n",
    "    tokenizer=tokenizer,\n",
    "    data_collator=data_collator,\n",
    ")"
   ]
  },
  {
   "cell_type": "code",
   "execution_count": null,
   "metadata": {
    "colab": {
     "base_uri": "https://localhost:8080/",
     "height": 267
    },
    "executionInfo": {
     "elapsed": 2810862,
     "status": "ok",
     "timestamp": 1732592867426,
     "user": {
      "displayName": "Lin John",
      "userId": "00076252520359288091"
     },
     "user_tz": 300
    },
    "id": "bh0XGBoQGlV4",
    "outputId": "f345e428-61f9-444d-82a7-01495b00fc20"
   },
   "outputs": [
    {
     "data": {
      "text/html": [
       "\n",
       "    <div>\n",
       "      \n",
       "      <progress value='5900' max='5900' style='width:300px; height:20px; vertical-align: middle;'></progress>\n",
       "      [5900/5900 46:47, Epoch 10/10]\n",
       "    </div>\n",
       "    <table border=\"1\" class=\"dataframe\">\n",
       "  <thead>\n",
       " <tr style=\"text-align: left;\">\n",
       "      <th>Step</th>\n",
       "      <th>Training Loss</th>\n",
       "    </tr>\n",
       "  </thead>\n",
       "  <tbody>\n",
       "    <tr>\n",
       "      <td>1000</td>\n",
       "      <td>2.760300</td>\n",
       "    </tr>\n",
       "    <tr>\n",
       "      <td>2000</td>\n",
       "      <td>2.273900</td>\n",
       "    </tr>\n",
       "    <tr>\n",
       "      <td>3000</td>\n",
       "      <td>1.994900</td>\n",
       "    </tr>\n",
       "    <tr>\n",
       "      <td>4000</td>\n",
       "      <td>1.786300</td>\n",
       "    </tr>\n",
       "    <tr>\n",
       "      <td>5000</td>\n",
       "      <td>1.657500</td>\n",
       "    </tr>\n",
       "  </tbody>\n",
       "</table><p>"
      ],
      "text/plain": [
       "<IPython.core.display.HTML object>"
      ]
     },
     "metadata": {},
     "output_type": "display_data"
    },
    {
     "data": {
      "text/plain": [
       "TrainOutput(global_step=5900, training_loss=2.017247479972193, metrics={'train_runtime': 2809.253, 'train_samples_per_second': 33.557, 'train_steps_per_second': 2.1, 'total_flos': 2.463199985664e+16, 'train_loss': 2.017247479972193, 'epoch': 10.0})"
      ]
     },
     "execution_count": 8,
     "metadata": {},
     "output_type": "execute_result"
    }
   ],
   "source": [
    "trainer.train()"
   ]
  },
  {
   "cell_type": "code",
   "execution_count": null,
   "metadata": {
    "colab": {
     "base_uri": "https://localhost:8080/",
     "height": 49,
     "referenced_widgets": [
      "c01044107038416fba18f6e2ac4934f2",
      "c484ddb1fd7b4f9e8f7fca7f2d27bd69",
      "83cbcaa788bc469483c45d1ff46b4b57",
      "0ff3e56e08c04adea17f7d62ddb04aed",
      "9ad00aba35c7422b91397c52913c3856",
      "fc77f829133a41f18ab6b34d645e5517",
      "663a3bea10024bafade5509168b5802f",
      "e7d0dbd93f2e4668b84da93a65166bad",
      "e676c6069042407ca4b7f7d958c4efc0",
      "76fa1c36880f4f8f80956e59be35a02b",
      "0342395278e748fa8f9b859916a7c4cb"
     ]
    },
    "executionInfo": {
     "elapsed": 2006,
     "status": "ok",
     "timestamp": 1732592869407,
     "user": {
      "displayName": "Lin John",
      "userId": "00076252520359288091"
     },
     "user_tz": 300
    },
    "id": "lpmwvU8Lg1W0",
    "outputId": "9dca2db2-fc48-463d-b175-35a4f015f6c5"
   },
   "outputs": [
    {
     "data": {
      "application/vnd.jupyter.widget-view+json": {
       "model_id": "c01044107038416fba18f6e2ac4934f2",
       "version_major": 2,
       "version_minor": 0
      },
      "text/plain": [
       "Map:   0%|          | 0/3270 [00:00<?, ? examples/s]"
      ]
     },
     "metadata": {},
     "output_type": "display_data"
    }
   ],
   "source": [
    "from datasets import load_dataset\n",
    "\n",
    "# Load the validation split\n",
    "dataset = load_dataset(\"boolq\", split='validation')\n",
    "formatted_dataset = dataset.map(format_example)"
   ]
  },
  {
   "cell_type": "code",
   "execution_count": null,
   "metadata": {
    "colab": {
     "base_uri": "https://localhost:8080/",
     "height": 49,
     "referenced_widgets": [
      "43ef4c0f05294460beaccfc31614ae89",
      "4a14054c6dd846ab9fa5a3c003efa036",
      "678a62ddf9f547a0958503642e14468b",
      "21c0cf6aabe9433894397907236c4908",
      "31c359a878924f618bfd9f3f62bb3dce",
      "a33b989be5154f0bb51be1ff70a36296",
      "afa7aad9b647424d92323931a81a3c56",
      "6f783c806d45462bb08e3980782e0fae",
      "83e548342bed45a3ae7c181c18261735",
      "b37bf74d67874de98fde4600a698df38",
      "a2e0b80b2a1b4c66837fedad31f5d294"
     ]
    },
    "collapsed": true,
    "executionInfo": {
     "elapsed": 536586,
     "status": "ok",
     "timestamp": 1732593405991,
     "user": {
      "displayName": "Lin John",
      "userId": "00076252520359288091"
     },
     "user_tz": 300
    },
    "id": "DHmOI7lsg892",
    "outputId": "470be816-be73-4bf7-bb87-7f75cc690e56"
   },
   "outputs": [
    {
     "data": {
      "application/vnd.jupyter.widget-view+json": {
       "model_id": "43ef4c0f05294460beaccfc31614ae89",
       "version_major": 2,
       "version_minor": 0
      },
      "text/plain": [
       "Map:   0%|          | 0/3270 [00:00<?, ? examples/s]"
      ]
     },
     "metadata": {},
     "output_type": "display_data"
    }
   ],
   "source": [
    "import torch\n",
    "model.eval()\n",
    "\n",
    "def generate_answer(example):\n",
    "    input_text = example['input_text']\n",
    "\n",
    "    # Tokenize and move inputs to the model's device\n",
    "    inputs = tokenizer(\n",
    "        input_text,\n",
    "        return_tensors='pt',\n",
    "        max_length=512,\n",
    "        truncation=True,\n",
    "        padding='max_length',\n",
    "    )\n",
    "    input_ids = inputs['input_ids'].to(model.device)\n",
    "    attention_mask = inputs['attention_mask'].to(model.device)\n",
    "\n",
    "    # Generate the model's output\n",
    "    with torch.no_grad():\n",
    "        output_ids = model.generate(\n",
    "            input_ids=input_ids,\n",
    "            attention_mask=attention_mask,\n",
    "            max_new_tokens=15,\n",
    "            do_sample=False,\n",
    "            num_beams=1,\n",
    "            pad_token_id=tokenizer.eos_token_id,\n",
    "        )\n",
    "\n",
    "    # Decode the generated tokens\n",
    "    generated_text = tokenizer.decode(output_ids[0], skip_special_tokens=True)\n",
    "\n",
    "    # Extract the answer by removing the input prompt\n",
    "    answer = generated_text[len(input_text):].strip()\n",
    "\n",
    "    # Handle empty outputs\n",
    "    if not answer:\n",
    "        answer = \"No\"\n",
    "        return {'predicted_answer': answer}\n",
    "\n",
    "    # # Keep only the first word (Yes or No)\n",
    "    # answer = answer.split()[0]\n",
    "    # print(answer)\n",
    "\n",
    "    # # Handle unexpected outputs\n",
    "    if 'yes' in answer.lower():\n",
    "        answer = 'Yes'\n",
    "    elif 'no' in answer.lower():\n",
    "        answer = 'No'\n",
    "    else:\n",
    "        answer = 'No'\n",
    "\n",
    "    return {'predicted_answer': answer}\n",
    "\n",
    "\n",
    "# Map the generate_answer function over the validation set\n",
    "predictions = formatted_dataset.map(generate_answer, batched=False)\n"
   ]
  },
  {
   "cell_type": "code",
   "execution_count": null,
   "metadata": {
    "colab": {
     "base_uri": "https://localhost:8080/"
    },
    "executionInfo": {
     "elapsed": 25,
     "status": "ok",
     "timestamp": 1732593405992,
     "user": {
      "displayName": "Lin John",
      "userId": "00076252520359288091"
     },
     "user_tz": 300
    },
    "id": "KvEk1vEMhH5E",
    "outputId": "70b8e4a5-fc6e-4632-846f-b011adb9b48b"
   },
   "outputs": [
    {
     "name": "stdout",
     "output_type": "stream",
     "text": [
      "Accuracy on the validation set: 67.31%\n"
     ]
    }
   ],
   "source": [
    "import numpy as np\n",
    "\n",
    "def compute_accuracy(predictions):\n",
    "    # Convert the true and predicted answers to lowercase for consistency\n",
    "    true_answers = [answer.lower() for answer in predictions['target_text']]\n",
    "    predicted_answers = [answer.lower() for answer in predictions['predicted_answer']]\n",
    "\n",
    "    # Calculate the number of correct predictions\n",
    "    correct_predictions = sum([\n",
    "        true == pred for true, pred in zip(true_answers, predicted_answers)\n",
    "    ])\n",
    "\n",
    "    # Compute accuracy\n",
    "    accuracy = correct_predictions / len(true_answers)\n",
    "    return accuracy\n",
    "\n",
    "# Calculate accuracy\n",
    "accuracy = compute_accuracy(predictions)\n",
    "print(f\"Accuracy on the validation set: {accuracy * 100:.2f}%\")"
   ]
  }
 ],
 "metadata": {
  "accelerator": "GPU",
  "colab": {
   "authorship_tag": "ABX9TyNeNvgzATwapzT2nITwSZwS",
   "gpuType": "A100",
   "machine_shape": "hm",
   "mount_file_id": "1Uw_AVqZjzpFNBgXXpokzNfrCrwTl1-oQ",
   "provenance": []
  },
  "kernelspec": {
   "display_name": "Python 3",
   "name": "python3"
  },
  "language_info": {
   "name": "python"
  },
  "widgets": {
   "application/vnd.jupyter.widget-state+json": {
    "0342395278e748fa8f9b859916a7c4cb": {
     "model_module": "@jupyter-widgets/controls",
     "model_module_version": "1.5.0",
     "model_name": "DescriptionStyleModel",
     "state": {
      "_model_module": "@jupyter-widgets/controls",
      "_model_module_version": "1.5.0",
      "_model_name": "DescriptionStyleModel",
      "_view_count": null,
      "_view_module": "@jupyter-widgets/base",
      "_view_module_version": "1.2.0",
      "_view_name": "StyleView",
      "description_width": ""
     }
    },
    "0ff3e56e08c04adea17f7d62ddb04aed": {
     "model_module": "@jupyter-widgets/controls",
     "model_module_version": "1.5.0",
     "model_name": "HTMLModel",
     "state": {
      "_dom_classes": [],
      "_model_module": "@jupyter-widgets/controls",
      "_model_module_version": "1.5.0",
      "_model_name": "HTMLModel",
      "_view_count": null,
      "_view_module": "@jupyter-widgets/controls",
      "_view_module_version": "1.5.0",
      "_view_name": "HTMLView",
      "description": "",
      "description_tooltip": null,
      "layout": "IPY_MODEL_76fa1c36880f4f8f80956e59be35a02b",
      "placeholder": "​",
      "style": "IPY_MODEL_0342395278e748fa8f9b859916a7c4cb",
      "value": " 3270/3270 [00:00&lt;00:00, 16089.13 examples/s]"
     }
    },
    "21c0cf6aabe9433894397907236c4908": {
     "model_module": "@jupyter-widgets/controls",
     "model_module_version": "1.5.0",
     "model_name": "HTMLModel",
     "state": {
      "_dom_classes": [],
      "_model_module": "@jupyter-widgets/controls",
      "_model_module_version": "1.5.0",
      "_model_name": "HTMLModel",
      "_view_count": null,
      "_view_module": "@jupyter-widgets/controls",
      "_view_module_version": "1.5.0",
      "_view_name": "HTMLView",
      "description": "",
      "description_tooltip": null,
      "layout": "IPY_MODEL_b37bf74d67874de98fde4600a698df38",
      "placeholder": "​",
      "style": "IPY_MODEL_a2e0b80b2a1b4c66837fedad31f5d294",
      "value": " 3270/3270 [08:52&lt;00:00,  6.07 examples/s]"
     }
    },
    "31c359a878924f618bfd9f3f62bb3dce": {
     "model_module": "@jupyter-widgets/base",
     "model_module_version": "1.2.0",
     "model_name": "LayoutModel",
     "state": {
      "_model_module": "@jupyter-widgets/base",
      "_model_module_version": "1.2.0",
      "_model_name": "LayoutModel",
      "_view_count": null,
      "_view_module": "@jupyter-widgets/base",
      "_view_module_version": "1.2.0",
      "_view_name": "LayoutView",
      "align_content": null,
      "align_items": null,
      "align_self": null,
      "border": null,
      "bottom": null,
      "display": null,
      "flex": null,
      "flex_flow": null,
      "grid_area": null,
      "grid_auto_columns": null,
      "grid_auto_flow": null,
      "grid_auto_rows": null,
      "grid_column": null,
      "grid_gap": null,
      "grid_row": null,
      "grid_template_areas": null,
      "grid_template_columns": null,
      "grid_template_rows": null,
      "height": null,
      "justify_content": null,
      "justify_items": null,
      "left": null,
      "margin": null,
      "max_height": null,
      "max_width": null,
      "min_height": null,
      "min_width": null,
      "object_fit": null,
      "object_position": null,
      "order": null,
      "overflow": null,
      "overflow_x": null,
      "overflow_y": null,
      "padding": null,
      "right": null,
      "top": null,
      "visibility": null,
      "width": null
     }
    },
    "43ef4c0f05294460beaccfc31614ae89": {
     "model_module": "@jupyter-widgets/controls",
     "model_module_version": "1.5.0",
     "model_name": "HBoxModel",
     "state": {
      "_dom_classes": [],
      "_model_module": "@jupyter-widgets/controls",
      "_model_module_version": "1.5.0",
      "_model_name": "HBoxModel",
      "_view_count": null,
      "_view_module": "@jupyter-widgets/controls",
      "_view_module_version": "1.5.0",
      "_view_name": "HBoxView",
      "box_style": "",
      "children": [
       "IPY_MODEL_4a14054c6dd846ab9fa5a3c003efa036",
       "IPY_MODEL_678a62ddf9f547a0958503642e14468b",
       "IPY_MODEL_21c0cf6aabe9433894397907236c4908"
      ],
      "layout": "IPY_MODEL_31c359a878924f618bfd9f3f62bb3dce"
     }
    },
    "4a14054c6dd846ab9fa5a3c003efa036": {
     "model_module": "@jupyter-widgets/controls",
     "model_module_version": "1.5.0",
     "model_name": "HTMLModel",
     "state": {
      "_dom_classes": [],
      "_model_module": "@jupyter-widgets/controls",
      "_model_module_version": "1.5.0",
      "_model_name": "HTMLModel",
      "_view_count": null,
      "_view_module": "@jupyter-widgets/controls",
      "_view_module_version": "1.5.0",
      "_view_name": "HTMLView",
      "description": "",
      "description_tooltip": null,
      "layout": "IPY_MODEL_a33b989be5154f0bb51be1ff70a36296",
      "placeholder": "​",
      "style": "IPY_MODEL_afa7aad9b647424d92323931a81a3c56",
      "value": "Map: 100%"
     }
    },
    "663a3bea10024bafade5509168b5802f": {
     "model_module": "@jupyter-widgets/controls",
     "model_module_version": "1.5.0",
     "model_name": "DescriptionStyleModel",
     "state": {
      "_model_module": "@jupyter-widgets/controls",
      "_model_module_version": "1.5.0",
      "_model_name": "DescriptionStyleModel",
      "_view_count": null,
      "_view_module": "@jupyter-widgets/base",
      "_view_module_version": "1.2.0",
      "_view_name": "StyleView",
      "description_width": ""
     }
    },
    "678a62ddf9f547a0958503642e14468b": {
     "model_module": "@jupyter-widgets/controls",
     "model_module_version": "1.5.0",
     "model_name": "FloatProgressModel",
     "state": {
      "_dom_classes": [],
      "_model_module": "@jupyter-widgets/controls",
      "_model_module_version": "1.5.0",
      "_model_name": "FloatProgressModel",
      "_view_count": null,
      "_view_module": "@jupyter-widgets/controls",
      "_view_module_version": "1.5.0",
      "_view_name": "ProgressView",
      "bar_style": "success",
      "description": "",
      "description_tooltip": null,
      "layout": "IPY_MODEL_6f783c806d45462bb08e3980782e0fae",
      "max": 3270,
      "min": 0,
      "orientation": "horizontal",
      "style": "IPY_MODEL_83e548342bed45a3ae7c181c18261735",
      "value": 3270
     }
    },
    "6f783c806d45462bb08e3980782e0fae": {
     "model_module": "@jupyter-widgets/base",
     "model_module_version": "1.2.0",
     "model_name": "LayoutModel",
     "state": {
      "_model_module": "@jupyter-widgets/base",
      "_model_module_version": "1.2.0",
      "_model_name": "LayoutModel",
      "_view_count": null,
      "_view_module": "@jupyter-widgets/base",
      "_view_module_version": "1.2.0",
      "_view_name": "LayoutView",
      "align_content": null,
      "align_items": null,
      "align_self": null,
      "border": null,
      "bottom": null,
      "display": null,
      "flex": null,
      "flex_flow": null,
      "grid_area": null,
      "grid_auto_columns": null,
      "grid_auto_flow": null,
      "grid_auto_rows": null,
      "grid_column": null,
      "grid_gap": null,
      "grid_row": null,
      "grid_template_areas": null,
      "grid_template_columns": null,
      "grid_template_rows": null,
      "height": null,
      "justify_content": null,
      "justify_items": null,
      "left": null,
      "margin": null,
      "max_height": null,
      "max_width": null,
      "min_height": null,
      "min_width": null,
      "object_fit": null,
      "object_position": null,
      "order": null,
      "overflow": null,
      "overflow_x": null,
      "overflow_y": null,
      "padding": null,
      "right": null,
      "top": null,
      "visibility": null,
      "width": null
     }
    },
    "76fa1c36880f4f8f80956e59be35a02b": {
     "model_module": "@jupyter-widgets/base",
     "model_module_version": "1.2.0",
     "model_name": "LayoutModel",
     "state": {
      "_model_module": "@jupyter-widgets/base",
      "_model_module_version": "1.2.0",
      "_model_name": "LayoutModel",
      "_view_count": null,
      "_view_module": "@jupyter-widgets/base",
      "_view_module_version": "1.2.0",
      "_view_name": "LayoutView",
      "align_content": null,
      "align_items": null,
      "align_self": null,
      "border": null,
      "bottom": null,
      "display": null,
      "flex": null,
      "flex_flow": null,
      "grid_area": null,
      "grid_auto_columns": null,
      "grid_auto_flow": null,
      "grid_auto_rows": null,
      "grid_column": null,
      "grid_gap": null,
      "grid_row": null,
      "grid_template_areas": null,
      "grid_template_columns": null,
      "grid_template_rows": null,
      "height": null,
      "justify_content": null,
      "justify_items": null,
      "left": null,
      "margin": null,
      "max_height": null,
      "max_width": null,
      "min_height": null,
      "min_width": null,
      "object_fit": null,
      "object_position": null,
      "order": null,
      "overflow": null,
      "overflow_x": null,
      "overflow_y": null,
      "padding": null,
      "right": null,
      "top": null,
      "visibility": null,
      "width": null
     }
    },
    "83cbcaa788bc469483c45d1ff46b4b57": {
     "model_module": "@jupyter-widgets/controls",
     "model_module_version": "1.5.0",
     "model_name": "FloatProgressModel",
     "state": {
      "_dom_classes": [],
      "_model_module": "@jupyter-widgets/controls",
      "_model_module_version": "1.5.0",
      "_model_name": "FloatProgressModel",
      "_view_count": null,
      "_view_module": "@jupyter-widgets/controls",
      "_view_module_version": "1.5.0",
      "_view_name": "ProgressView",
      "bar_style": "success",
      "description": "",
      "description_tooltip": null,
      "layout": "IPY_MODEL_e7d0dbd93f2e4668b84da93a65166bad",
      "max": 3270,
      "min": 0,
      "orientation": "horizontal",
      "style": "IPY_MODEL_e676c6069042407ca4b7f7d958c4efc0",
      "value": 3270
     }
    },
    "83e548342bed45a3ae7c181c18261735": {
     "model_module": "@jupyter-widgets/controls",
     "model_module_version": "1.5.0",
     "model_name": "ProgressStyleModel",
     "state": {
      "_model_module": "@jupyter-widgets/controls",
      "_model_module_version": "1.5.0",
      "_model_name": "ProgressStyleModel",
      "_view_count": null,
      "_view_module": "@jupyter-widgets/base",
      "_view_module_version": "1.2.0",
      "_view_name": "StyleView",
      "bar_color": null,
      "description_width": ""
     }
    },
    "9ad00aba35c7422b91397c52913c3856": {
     "model_module": "@jupyter-widgets/base",
     "model_module_version": "1.2.0",
     "model_name": "LayoutModel",
     "state": {
      "_model_module": "@jupyter-widgets/base",
      "_model_module_version": "1.2.0",
      "_model_name": "LayoutModel",
      "_view_count": null,
      "_view_module": "@jupyter-widgets/base",
      "_view_module_version": "1.2.0",
      "_view_name": "LayoutView",
      "align_content": null,
      "align_items": null,
      "align_self": null,
      "border": null,
      "bottom": null,
      "display": null,
      "flex": null,
      "flex_flow": null,
      "grid_area": null,
      "grid_auto_columns": null,
      "grid_auto_flow": null,
      "grid_auto_rows": null,
      "grid_column": null,
      "grid_gap": null,
      "grid_row": null,
      "grid_template_areas": null,
      "grid_template_columns": null,
      "grid_template_rows": null,
      "height": null,
      "justify_content": null,
      "justify_items": null,
      "left": null,
      "margin": null,
      "max_height": null,
      "max_width": null,
      "min_height": null,
      "min_width": null,
      "object_fit": null,
      "object_position": null,
      "order": null,
      "overflow": null,
      "overflow_x": null,
      "overflow_y": null,
      "padding": null,
      "right": null,
      "top": null,
      "visibility": null,
      "width": null
     }
    },
    "a2e0b80b2a1b4c66837fedad31f5d294": {
     "model_module": "@jupyter-widgets/controls",
     "model_module_version": "1.5.0",
     "model_name": "DescriptionStyleModel",
     "state": {
      "_model_module": "@jupyter-widgets/controls",
      "_model_module_version": "1.5.0",
      "_model_name": "DescriptionStyleModel",
      "_view_count": null,
      "_view_module": "@jupyter-widgets/base",
      "_view_module_version": "1.2.0",
      "_view_name": "StyleView",
      "description_width": ""
     }
    },
    "a33b989be5154f0bb51be1ff70a36296": {
     "model_module": "@jupyter-widgets/base",
     "model_module_version": "1.2.0",
     "model_name": "LayoutModel",
     "state": {
      "_model_module": "@jupyter-widgets/base",
      "_model_module_version": "1.2.0",
      "_model_name": "LayoutModel",
      "_view_count": null,
      "_view_module": "@jupyter-widgets/base",
      "_view_module_version": "1.2.0",
      "_view_name": "LayoutView",
      "align_content": null,
      "align_items": null,
      "align_self": null,
      "border": null,
      "bottom": null,
      "display": null,
      "flex": null,
      "flex_flow": null,
      "grid_area": null,
      "grid_auto_columns": null,
      "grid_auto_flow": null,
      "grid_auto_rows": null,
      "grid_column": null,
      "grid_gap": null,
      "grid_row": null,
      "grid_template_areas": null,
      "grid_template_columns": null,
      "grid_template_rows": null,
      "height": null,
      "justify_content": null,
      "justify_items": null,
      "left": null,
      "margin": null,
      "max_height": null,
      "max_width": null,
      "min_height": null,
      "min_width": null,
      "object_fit": null,
      "object_position": null,
      "order": null,
      "overflow": null,
      "overflow_x": null,
      "overflow_y": null,
      "padding": null,
      "right": null,
      "top": null,
      "visibility": null,
      "width": null
     }
    },
    "afa7aad9b647424d92323931a81a3c56": {
     "model_module": "@jupyter-widgets/controls",
     "model_module_version": "1.5.0",
     "model_name": "DescriptionStyleModel",
     "state": {
      "_model_module": "@jupyter-widgets/controls",
      "_model_module_version": "1.5.0",
      "_model_name": "DescriptionStyleModel",
      "_view_count": null,
      "_view_module": "@jupyter-widgets/base",
      "_view_module_version": "1.2.0",
      "_view_name": "StyleView",
      "description_width": ""
     }
    },
    "b37bf74d67874de98fde4600a698df38": {
     "model_module": "@jupyter-widgets/base",
     "model_module_version": "1.2.0",
     "model_name": "LayoutModel",
     "state": {
      "_model_module": "@jupyter-widgets/base",
      "_model_module_version": "1.2.0",
      "_model_name": "LayoutModel",
      "_view_count": null,
      "_view_module": "@jupyter-widgets/base",
      "_view_module_version": "1.2.0",
      "_view_name": "LayoutView",
      "align_content": null,
      "align_items": null,
      "align_self": null,
      "border": null,
      "bottom": null,
      "display": null,
      "flex": null,
      "flex_flow": null,
      "grid_area": null,
      "grid_auto_columns": null,
      "grid_auto_flow": null,
      "grid_auto_rows": null,
      "grid_column": null,
      "grid_gap": null,
      "grid_row": null,
      "grid_template_areas": null,
      "grid_template_columns": null,
      "grid_template_rows": null,
      "height": null,
      "justify_content": null,
      "justify_items": null,
      "left": null,
      "margin": null,
      "max_height": null,
      "max_width": null,
      "min_height": null,
      "min_width": null,
      "object_fit": null,
      "object_position": null,
      "order": null,
      "overflow": null,
      "overflow_x": null,
      "overflow_y": null,
      "padding": null,
      "right": null,
      "top": null,
      "visibility": null,
      "width": null
     }
    },
    "c01044107038416fba18f6e2ac4934f2": {
     "model_module": "@jupyter-widgets/controls",
     "model_module_version": "1.5.0",
     "model_name": "HBoxModel",
     "state": {
      "_dom_classes": [],
      "_model_module": "@jupyter-widgets/controls",
      "_model_module_version": "1.5.0",
      "_model_name": "HBoxModel",
      "_view_count": null,
      "_view_module": "@jupyter-widgets/controls",
      "_view_module_version": "1.5.0",
      "_view_name": "HBoxView",
      "box_style": "",
      "children": [
       "IPY_MODEL_c484ddb1fd7b4f9e8f7fca7f2d27bd69",
       "IPY_MODEL_83cbcaa788bc469483c45d1ff46b4b57",
       "IPY_MODEL_0ff3e56e08c04adea17f7d62ddb04aed"
      ],
      "layout": "IPY_MODEL_9ad00aba35c7422b91397c52913c3856"
     }
    },
    "c484ddb1fd7b4f9e8f7fca7f2d27bd69": {
     "model_module": "@jupyter-widgets/controls",
     "model_module_version": "1.5.0",
     "model_name": "HTMLModel",
     "state": {
      "_dom_classes": [],
      "_model_module": "@jupyter-widgets/controls",
      "_model_module_version": "1.5.0",
      "_model_name": "HTMLModel",
      "_view_count": null,
      "_view_module": "@jupyter-widgets/controls",
      "_view_module_version": "1.5.0",
      "_view_name": "HTMLView",
      "description": "",
      "description_tooltip": null,
      "layout": "IPY_MODEL_fc77f829133a41f18ab6b34d645e5517",
      "placeholder": "​",
      "style": "IPY_MODEL_663a3bea10024bafade5509168b5802f",
      "value": "Map: 100%"
     }
    },
    "e676c6069042407ca4b7f7d958c4efc0": {
     "model_module": "@jupyter-widgets/controls",
     "model_module_version": "1.5.0",
     "model_name": "ProgressStyleModel",
     "state": {
      "_model_module": "@jupyter-widgets/controls",
      "_model_module_version": "1.5.0",
      "_model_name": "ProgressStyleModel",
      "_view_count": null,
      "_view_module": "@jupyter-widgets/base",
      "_view_module_version": "1.2.0",
      "_view_name": "StyleView",
      "bar_color": null,
      "description_width": ""
     }
    },
    "e7d0dbd93f2e4668b84da93a65166bad": {
     "model_module": "@jupyter-widgets/base",
     "model_module_version": "1.2.0",
     "model_name": "LayoutModel",
     "state": {
      "_model_module": "@jupyter-widgets/base",
      "_model_module_version": "1.2.0",
      "_model_name": "LayoutModel",
      "_view_count": null,
      "_view_module": "@jupyter-widgets/base",
      "_view_module_version": "1.2.0",
      "_view_name": "LayoutView",
      "align_content": null,
      "align_items": null,
      "align_self": null,
      "border": null,
      "bottom": null,
      "display": null,
      "flex": null,
      "flex_flow": null,
      "grid_area": null,
      "grid_auto_columns": null,
      "grid_auto_flow": null,
      "grid_auto_rows": null,
      "grid_column": null,
      "grid_gap": null,
      "grid_row": null,
      "grid_template_areas": null,
      "grid_template_columns": null,
      "grid_template_rows": null,
      "height": null,
      "justify_content": null,
      "justify_items": null,
      "left": null,
      "margin": null,
      "max_height": null,
      "max_width": null,
      "min_height": null,
      "min_width": null,
      "object_fit": null,
      "object_position": null,
      "order": null,
      "overflow": null,
      "overflow_x": null,
      "overflow_y": null,
      "padding": null,
      "right": null,
      "top": null,
      "visibility": null,
      "width": null
     }
    },
    "fc77f829133a41f18ab6b34d645e5517": {
     "model_module": "@jupyter-widgets/base",
     "model_module_version": "1.2.0",
     "model_name": "LayoutModel",
     "state": {
      "_model_module": "@jupyter-widgets/base",
      "_model_module_version": "1.2.0",
      "_model_name": "LayoutModel",
      "_view_count": null,
      "_view_module": "@jupyter-widgets/base",
      "_view_module_version": "1.2.0",
      "_view_name": "LayoutView",
      "align_content": null,
      "align_items": null,
      "align_self": null,
      "border": null,
      "bottom": null,
      "display": null,
      "flex": null,
      "flex_flow": null,
      "grid_area": null,
      "grid_auto_columns": null,
      "grid_auto_flow": null,
      "grid_auto_rows": null,
      "grid_column": null,
      "grid_gap": null,
      "grid_row": null,
      "grid_template_areas": null,
      "grid_template_columns": null,
      "grid_template_rows": null,
      "height": null,
      "justify_content": null,
      "justify_items": null,
      "left": null,
      "margin": null,
      "max_height": null,
      "max_width": null,
      "min_height": null,
      "min_width": null,
      "object_fit": null,
      "object_position": null,
      "order": null,
      "overflow": null,
      "overflow_x": null,
      "overflow_y": null,
      "padding": null,
      "right": null,
      "top": null,
      "visibility": null,
      "width": null
     }
    }
   }
  }
 },
 "nbformat": 4,
 "nbformat_minor": 0
}
